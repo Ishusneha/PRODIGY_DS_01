{
  "cells": [
    {
      "cell_type": "markdown",
      "metadata": {
        "id": "Xys7ZBlNK7_P"
      },
      "source": [
        "# **Task 1**\n",
        "Create a bar chart or histogram to visualize the distribution of a categorical or continuous variable, such as the distribution of ages or genders in a population."
      ]
    },
    {
      "cell_type": "code",
      "execution_count": 4,
      "metadata": {
        "id": "2aaYP57iF2A1"
      },
      "outputs": [],
      "source": [
        "#importing libraries\n",
        "import numpy as np \n",
        "import pandas as pd\n",
        "import matplotlib.pyplot as plt\n",
        "import seaborn as sns"
      ]
    },
    {
      "cell_type": "code",
      "execution_count": 5,
      "metadata": {
        "colab": {
          "base_uri": "https://localhost:8080/",
          "height": 773
        },
        "id": "Cot8IaOuMoie",
        "outputId": "cc407978-a967-4b36-b37b-4f74bbd7cdd9"
      },
      "outputs": [
        {
          "data": {
            "text/html": [
              "<div>\n",
              "<style scoped>\n",
              "    .dataframe tbody tr th:only-of-type {\n",
              "        vertical-align: middle;\n",
              "    }\n",
              "\n",
              "    .dataframe tbody tr th {\n",
              "        vertical-align: top;\n",
              "    }\n",
              "\n",
              "    .dataframe thead th {\n",
              "        text-align: right;\n",
              "    }\n",
              "</style>\n",
              "<table border=\"1\" class=\"dataframe\">\n",
              "  <thead>\n",
              "    <tr style=\"text-align: right;\">\n",
              "      <th></th>\n",
              "      <th>Name</th>\n",
              "      <th>Age</th>\n",
              "      <th>Gender</th>\n",
              "      <th>Blood Type</th>\n",
              "      <th>Medical Condition</th>\n",
              "      <th>Date of Admission</th>\n",
              "      <th>Doctor</th>\n",
              "      <th>Hospital</th>\n",
              "      <th>Insurance Provider</th>\n",
              "      <th>Billing Amount</th>\n",
              "      <th>Room Number</th>\n",
              "      <th>Admission Type</th>\n",
              "      <th>Discharge Date</th>\n",
              "      <th>Medication</th>\n",
              "      <th>Test Results</th>\n",
              "    </tr>\n",
              "  </thead>\n",
              "  <tbody>\n",
              "    <tr>\n",
              "      <th>0</th>\n",
              "      <td>Tiffany Ramirez</td>\n",
              "      <td>81</td>\n",
              "      <td>Female</td>\n",
              "      <td>O-</td>\n",
              "      <td>Diabetes</td>\n",
              "      <td>2022-11-17</td>\n",
              "      <td>Patrick Parker</td>\n",
              "      <td>Wallace-Hamilton</td>\n",
              "      <td>Medicare</td>\n",
              "      <td>37490.983364</td>\n",
              "      <td>146</td>\n",
              "      <td>Elective</td>\n",
              "      <td>2022-12-01</td>\n",
              "      <td>Aspirin</td>\n",
              "      <td>Inconclusive</td>\n",
              "    </tr>\n",
              "    <tr>\n",
              "      <th>1</th>\n",
              "      <td>Ruben Burns</td>\n",
              "      <td>35</td>\n",
              "      <td>Male</td>\n",
              "      <td>O+</td>\n",
              "      <td>Asthma</td>\n",
              "      <td>2023-06-01</td>\n",
              "      <td>Diane Jackson</td>\n",
              "      <td>Burke, Griffin and Cooper</td>\n",
              "      <td>UnitedHealthcare</td>\n",
              "      <td>47304.064845</td>\n",
              "      <td>404</td>\n",
              "      <td>Emergency</td>\n",
              "      <td>2023-06-15</td>\n",
              "      <td>Lipitor</td>\n",
              "      <td>Normal</td>\n",
              "    </tr>\n",
              "    <tr>\n",
              "      <th>2</th>\n",
              "      <td>Chad Byrd</td>\n",
              "      <td>61</td>\n",
              "      <td>Male</td>\n",
              "      <td>B-</td>\n",
              "      <td>Obesity</td>\n",
              "      <td>2019-01-09</td>\n",
              "      <td>Paul Baker</td>\n",
              "      <td>Walton LLC</td>\n",
              "      <td>Medicare</td>\n",
              "      <td>36874.896997</td>\n",
              "      <td>292</td>\n",
              "      <td>Emergency</td>\n",
              "      <td>2019-02-08</td>\n",
              "      <td>Lipitor</td>\n",
              "      <td>Normal</td>\n",
              "    </tr>\n",
              "    <tr>\n",
              "      <th>3</th>\n",
              "      <td>Antonio Frederick</td>\n",
              "      <td>49</td>\n",
              "      <td>Male</td>\n",
              "      <td>B-</td>\n",
              "      <td>Asthma</td>\n",
              "      <td>2020-05-02</td>\n",
              "      <td>Brian Chandler</td>\n",
              "      <td>Garcia Ltd</td>\n",
              "      <td>Medicare</td>\n",
              "      <td>23303.322092</td>\n",
              "      <td>480</td>\n",
              "      <td>Urgent</td>\n",
              "      <td>2020-05-03</td>\n",
              "      <td>Penicillin</td>\n",
              "      <td>Abnormal</td>\n",
              "    </tr>\n",
              "    <tr>\n",
              "      <th>4</th>\n",
              "      <td>Mrs. Brandy Flowers</td>\n",
              "      <td>51</td>\n",
              "      <td>Male</td>\n",
              "      <td>O-</td>\n",
              "      <td>Arthritis</td>\n",
              "      <td>2021-07-09</td>\n",
              "      <td>Dustin Griffin</td>\n",
              "      <td>Jones, Brown and Murray</td>\n",
              "      <td>UnitedHealthcare</td>\n",
              "      <td>18086.344184</td>\n",
              "      <td>477</td>\n",
              "      <td>Urgent</td>\n",
              "      <td>2021-08-02</td>\n",
              "      <td>Paracetamol</td>\n",
              "      <td>Normal</td>\n",
              "    </tr>\n",
              "    <tr>\n",
              "      <th>...</th>\n",
              "      <td>...</td>\n",
              "      <td>...</td>\n",
              "      <td>...</td>\n",
              "      <td>...</td>\n",
              "      <td>...</td>\n",
              "      <td>...</td>\n",
              "      <td>...</td>\n",
              "      <td>...</td>\n",
              "      <td>...</td>\n",
              "      <td>...</td>\n",
              "      <td>...</td>\n",
              "      <td>...</td>\n",
              "      <td>...</td>\n",
              "      <td>...</td>\n",
              "      <td>...</td>\n",
              "    </tr>\n",
              "    <tr>\n",
              "      <th>9995</th>\n",
              "      <td>James Hood</td>\n",
              "      <td>83</td>\n",
              "      <td>Male</td>\n",
              "      <td>A+</td>\n",
              "      <td>Obesity</td>\n",
              "      <td>2022-07-29</td>\n",
              "      <td>Samuel Moody</td>\n",
              "      <td>Wood, Martin and Simmons</td>\n",
              "      <td>UnitedHealthcare</td>\n",
              "      <td>39606.840083</td>\n",
              "      <td>110</td>\n",
              "      <td>Elective</td>\n",
              "      <td>2022-08-02</td>\n",
              "      <td>Ibuprofen</td>\n",
              "      <td>Abnormal</td>\n",
              "    </tr>\n",
              "    <tr>\n",
              "      <th>9996</th>\n",
              "      <td>Stephanie Evans</td>\n",
              "      <td>47</td>\n",
              "      <td>Female</td>\n",
              "      <td>AB+</td>\n",
              "      <td>Arthritis</td>\n",
              "      <td>2022-01-06</td>\n",
              "      <td>Christopher Yates</td>\n",
              "      <td>Nash-Krueger</td>\n",
              "      <td>Blue Cross</td>\n",
              "      <td>5995.717488</td>\n",
              "      <td>244</td>\n",
              "      <td>Emergency</td>\n",
              "      <td>2022-01-29</td>\n",
              "      <td>Ibuprofen</td>\n",
              "      <td>Normal</td>\n",
              "    </tr>\n",
              "    <tr>\n",
              "      <th>9997</th>\n",
              "      <td>Christopher Martinez</td>\n",
              "      <td>54</td>\n",
              "      <td>Male</td>\n",
              "      <td>B-</td>\n",
              "      <td>Arthritis</td>\n",
              "      <td>2022-07-01</td>\n",
              "      <td>Robert Nicholson</td>\n",
              "      <td>Larson and Sons</td>\n",
              "      <td>Blue Cross</td>\n",
              "      <td>49559.202905</td>\n",
              "      <td>312</td>\n",
              "      <td>Elective</td>\n",
              "      <td>2022-07-15</td>\n",
              "      <td>Ibuprofen</td>\n",
              "      <td>Normal</td>\n",
              "    </tr>\n",
              "    <tr>\n",
              "      <th>9998</th>\n",
              "      <td>Amanda Duke</td>\n",
              "      <td>84</td>\n",
              "      <td>Male</td>\n",
              "      <td>A+</td>\n",
              "      <td>Arthritis</td>\n",
              "      <td>2020-02-06</td>\n",
              "      <td>Jamie Lewis</td>\n",
              "      <td>Wilson-Lyons</td>\n",
              "      <td>UnitedHealthcare</td>\n",
              "      <td>25236.344761</td>\n",
              "      <td>420</td>\n",
              "      <td>Urgent</td>\n",
              "      <td>2020-02-26</td>\n",
              "      <td>Penicillin</td>\n",
              "      <td>Normal</td>\n",
              "    </tr>\n",
              "    <tr>\n",
              "      <th>9999</th>\n",
              "      <td>Eric King</td>\n",
              "      <td>20</td>\n",
              "      <td>Male</td>\n",
              "      <td>B-</td>\n",
              "      <td>Arthritis</td>\n",
              "      <td>2023-03-22</td>\n",
              "      <td>Tasha Avila</td>\n",
              "      <td>Torres, Young and Stewart</td>\n",
              "      <td>Aetna</td>\n",
              "      <td>37223.965865</td>\n",
              "      <td>290</td>\n",
              "      <td>Emergency</td>\n",
              "      <td>2023-04-15</td>\n",
              "      <td>Penicillin</td>\n",
              "      <td>Abnormal</td>\n",
              "    </tr>\n",
              "  </tbody>\n",
              "</table>\n",
              "<p>10000 rows × 15 columns</p>\n",
              "</div>"
            ],
            "text/plain": [
              "                      Name  Age  Gender Blood Type Medical Condition  \\\n",
              "0          Tiffany Ramirez   81  Female         O-          Diabetes   \n",
              "1              Ruben Burns   35    Male         O+            Asthma   \n",
              "2                Chad Byrd   61    Male         B-           Obesity   \n",
              "3        Antonio Frederick   49    Male         B-            Asthma   \n",
              "4      Mrs. Brandy Flowers   51    Male         O-         Arthritis   \n",
              "...                    ...  ...     ...        ...               ...   \n",
              "9995            James Hood   83    Male         A+           Obesity   \n",
              "9996       Stephanie Evans   47  Female        AB+         Arthritis   \n",
              "9997  Christopher Martinez   54    Male         B-         Arthritis   \n",
              "9998           Amanda Duke   84    Male         A+         Arthritis   \n",
              "9999             Eric King   20    Male         B-         Arthritis   \n",
              "\n",
              "     Date of Admission             Doctor                   Hospital  \\\n",
              "0           2022-11-17     Patrick Parker           Wallace-Hamilton   \n",
              "1           2023-06-01      Diane Jackson  Burke, Griffin and Cooper   \n",
              "2           2019-01-09         Paul Baker                 Walton LLC   \n",
              "3           2020-05-02     Brian Chandler                 Garcia Ltd   \n",
              "4           2021-07-09     Dustin Griffin    Jones, Brown and Murray   \n",
              "...                ...                ...                        ...   \n",
              "9995        2022-07-29       Samuel Moody   Wood, Martin and Simmons   \n",
              "9996        2022-01-06  Christopher Yates               Nash-Krueger   \n",
              "9997        2022-07-01   Robert Nicholson            Larson and Sons   \n",
              "9998        2020-02-06        Jamie Lewis               Wilson-Lyons   \n",
              "9999        2023-03-22        Tasha Avila  Torres, Young and Stewart   \n",
              "\n",
              "     Insurance Provider  Billing Amount  Room Number Admission Type  \\\n",
              "0              Medicare    37490.983364          146       Elective   \n",
              "1      UnitedHealthcare    47304.064845          404      Emergency   \n",
              "2              Medicare    36874.896997          292      Emergency   \n",
              "3              Medicare    23303.322092          480         Urgent   \n",
              "4      UnitedHealthcare    18086.344184          477         Urgent   \n",
              "...                 ...             ...          ...            ...   \n",
              "9995   UnitedHealthcare    39606.840083          110       Elective   \n",
              "9996         Blue Cross     5995.717488          244      Emergency   \n",
              "9997         Blue Cross    49559.202905          312       Elective   \n",
              "9998   UnitedHealthcare    25236.344761          420         Urgent   \n",
              "9999              Aetna    37223.965865          290      Emergency   \n",
              "\n",
              "     Discharge Date   Medication  Test Results  \n",
              "0        2022-12-01      Aspirin  Inconclusive  \n",
              "1        2023-06-15      Lipitor        Normal  \n",
              "2        2019-02-08      Lipitor        Normal  \n",
              "3        2020-05-03   Penicillin      Abnormal  \n",
              "4        2021-08-02  Paracetamol        Normal  \n",
              "...             ...          ...           ...  \n",
              "9995     2022-08-02    Ibuprofen      Abnormal  \n",
              "9996     2022-01-29    Ibuprofen        Normal  \n",
              "9997     2022-07-15    Ibuprofen        Normal  \n",
              "9998     2020-02-26   Penicillin        Normal  \n",
              "9999     2023-04-15   Penicillin      Abnormal  \n",
              "\n",
              "[10000 rows x 15 columns]"
            ]
          },
          "execution_count": 5,
          "metadata": {},
          "output_type": "execute_result"
        }
      ],
      "source": [
        "#reading csv file\n",
        "df=pd.read_csv(\"./healthcare_dataset.csv\")\n",
        "df\n"
      ]
    },
    {
      "cell_type": "code",
      "execution_count": 6,
      "metadata": {
        "colab": {
          "base_uri": "https://localhost:8080/"
        },
        "id": "87iJcL5nNbH3",
        "outputId": "5c727ae4-2e55-4641-9793-0615f9581e77"
      },
      "outputs": [
        {
          "name": "stdout",
          "output_type": "stream",
          "text": [
            "<class 'pandas.core.frame.DataFrame'>\n",
            "RangeIndex: 10000 entries, 0 to 9999\n",
            "Data columns (total 15 columns):\n",
            " #   Column              Non-Null Count  Dtype  \n",
            "---  ------              --------------  -----  \n",
            " 0   Name                10000 non-null  object \n",
            " 1   Age                 10000 non-null  int64  \n",
            " 2   Gender              10000 non-null  object \n",
            " 3   Blood Type          10000 non-null  object \n",
            " 4   Medical Condition   10000 non-null  object \n",
            " 5   Date of Admission   10000 non-null  object \n",
            " 6   Doctor              10000 non-null  object \n",
            " 7   Hospital            10000 non-null  object \n",
            " 8   Insurance Provider  10000 non-null  object \n",
            " 9   Billing Amount      10000 non-null  float64\n",
            " 10  Room Number         10000 non-null  int64  \n",
            " 11  Admission Type      10000 non-null  object \n",
            " 12  Discharge Date      10000 non-null  object \n",
            " 13  Medication          10000 non-null  object \n",
            " 14  Test Results        10000 non-null  object \n",
            "dtypes: float64(1), int64(2), object(12)\n",
            "memory usage: 1.1+ MB\n"
          ]
        }
      ],
      "source": [
        "df.dropna(axis = 1, inplace=True) # Dropping columns with any missing values (NaN) along columns\n",
        "df.info() # Displaying information about the DataFrame after dropping columns\n"
      ]
    },
    {
      "cell_type": "code",
      "execution_count": 7,
      "metadata": {
        "colab": {
          "base_uri": "https://localhost:8080/",
          "height": 446
        },
        "id": "YA6zcl1_hZ65",
        "outputId": "68889968-01d7-416a-edbc-4784fcba6106"
      },
      "outputs": [
        {
          "data": {
            "image/png": "[encoded data removed]",
            "text/plain": [
              "<Figure size 600x400 with 1 Axes>"
            ]
          },
          "metadata": {},
          "output_type": "display_data"
        }
      ],
      "source": [
        "# Count the occurrences of each gender in the 'Gender' column\n",
        "gender_counts = df['Gender'].value_counts()\n",
        "# Create a figure for plotting\n",
        "plt.figure(figsize=(6, 4))\n",
        "# Plotting a bar plot for gender distribution using the counted values\n",
        "gender_counts.plot(kind='bar', color=['skyblue', 'pink'])\n",
        "# Adding labels and title to the plot\n",
        "plt.xlabel('Gender')\n",
        "plt.ylabel('Count')\n",
        "plt.title('Gender Distribution')\n",
        "# Display the plot\n",
        "plt.show()"
      ]
    },
    {
      "cell_type": "code",
      "execution_count": 8,
      "metadata": {
        "colab": {
          "base_uri": "https://localhost:8080/",
          "height": 427
        },
        "id": "QsopJ2jflXYG",
        "outputId": "13120cb7-3e61-4760-f91c-96ff6d33d8c9"
      },
      "outputs": [
        {
          "data": {
            "image/png": "[encoded data removed]",
            "text/plain": [
              "<Figure size 600x400 with 1 Axes>"
            ]
          },
          "metadata": {},
          "output_type": "display_data"
        }
      ],
      "source": [
        "# Count the occurrences of each blood type in the 'Blood Type' column\n",
        "blood_counts = df['Blood Type'].value_counts()\n",
        "# Create a figure for plotting\n",
        "plt.figure(figsize=(6, 4))\n",
        "# Plotting a bar plot for blood group distribution using the counted values\n",
        "blood_counts.plot(kind='bar')\n",
        "# Adding labels and title to the plot\n",
        "plt.xlabel('Blood Group')\n",
        "plt.ylabel('Count')\n",
        "plt.title('Blood Group Distribution')\n",
        "# Display the plot\n",
        "plt.show()"
      ]
    },
    {
      "cell_type": "code",
      "execution_count": 9,
      "metadata": {
        "colab": {
          "base_uri": "https://localhost:8080/",
          "height": 518
        },
        "id": "zjrUnoLL0i3k",
        "outputId": "3eccd985-c3cf-439e-86ae-8bfbd5fb9e37"
      },
      "outputs": [
        {
          "data": {
            "image/png": "[encoded data removed]",
            "text/plain": [
              "<Figure size 600x400 with 1 Axes>"
            ]
          },
          "metadata": {},
          "output_type": "display_data"
        }
      ],
      "source": [
        "gender_counts = df['Insurance Provider'].value_counts()\n",
        "plt.figure(figsize=(6, 4))\n",
        "gender_counts.plot(kind='bar', color=['black', 'red','yellow','green','purple'])\n",
        "plt.xlabel('Insurance Provider')\n",
        "plt.ylabel('Count')\n",
        "plt.title('Insurance Distribution')\n",
        "plt.show()"
      ]
    },
    {
      "cell_type": "code",
      "execution_count": 10,
      "metadata": {
        "colab": {
          "base_uri": "https://localhost:8080/",
          "height": 388
        },
        "id": "PgMkgOLM8MO7",
        "outputId": "5d77a1fd-1e1c-49fc-ce1f-6691d356606e"
      },
      "outputs": [
        {
          "data": {
            "image/png": "[encoded data removed]",
            "text/plain": [
              "<Figure size 600x400 with 1 Axes>"
            ]
          },
          "metadata": {},
          "output_type": "display_data"
        }
      ],
      "source": [
        "\n",
        "# Create a figure for plotting with a specific size (6x4 inches)\n",
        "plt.figure(figsize=(6, 4))\n",
        "# Plotting a histogram of ages from the 'Age' column\n",
        "plt.hist(df['Age'], bins=50, color='red', edgecolor='black')\n",
        "# Adding labels to the x-axis and y-axis\n",
        "plt.xlabel('Age')\n",
        "plt.ylabel('Number of patients')\n",
        "# Display the plot\n",
        "plt.show()"
      ]
    },
    {
      "cell_type": "markdown",
      "metadata": {},
      "source": [
        "The code showcases how histograms and bar plots visually represent different types of data:\n",
        "Histograms, demonstrated using plt.hist(), are ideal for analyzing continuous numerical data.\n",
        "Bar plots, demonstrated using plt.bar(), are suitable for comparing categorical or discrete data. "
      ]
    }
  ],
  "metadata": {
    "colab": {
      "provenance": []
    },
    "kernelspec": {
      "display_name": "Python 3",
      "name": "python3"
    },
    "language_info": {
      "codemirror_mode": {
        "name": "ipython",
        "version": 3
      },
      "file_extension": ".py",
      "mimetype": "text/x-python",
      "name": "python",
      "nbconvert_exporter": "python",
      "pygments_lexer": "ipython3",
      "version": "3.9.13"
    }
  },
  "nbformat": 4,
  "nbformat_minor": 0
}
